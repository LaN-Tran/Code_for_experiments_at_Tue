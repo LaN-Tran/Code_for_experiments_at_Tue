{
 "cells": [
  {
   "cell_type": "markdown",
   "id": "fffee8d9",
   "metadata": {},
   "source": [
    "# Envs"
   ]
  },
  {
   "cell_type": "code",
   "execution_count": 1,
   "id": "ca43ddbd",
   "metadata": {},
   "outputs": [
    {
     "name": "stdout",
     "output_type": "stream",
     "text": [
      "Collecting pyfirmata\n",
      "  Downloading pyFirmata-1.1.0-py2.py3-none-any.whl.metadata (3.8 kB)\n",
      "Requirement already satisfied: pyserial in c:\\users\\20245580\\appdata\\local\\anaconda3\\envs\\microcontroller\\lib\\site-packages (from pyfirmata) (3.5)\n",
      "Downloading pyFirmata-1.1.0-py2.py3-none-any.whl (14 kB)\n",
      "Installing collected packages: pyfirmata\n",
      "Successfully installed pyfirmata-1.1.0\n",
      "Note: you may need to restart the kernel to use updated packages.\n"
     ]
    }
   ],
   "source": [
    "# %pip install pyfirmata"
   ]
  },
  {
   "cell_type": "markdown",
   "id": "515fbf88",
   "metadata": {},
   "source": [
    "# Arduino board"
   ]
  },
  {
   "cell_type": "code",
   "execution_count": 1,
   "id": "5bd362d3",
   "metadata": {},
   "outputs": [],
   "source": [
    "import pyfirmata\n",
    "import time\n",
    "\n",
    "board = pyfirmata.Arduino('COM8')"
   ]
  },
  {
   "cell_type": "code",
   "execution_count": 3,
   "id": "2f69dcb8",
   "metadata": {},
   "outputs": [
    {
     "name": "stdout",
     "output_type": "stream",
     "text": [
      "HIGH\n"
     ]
    },
    {
     "ename": "KeyboardInterrupt",
     "evalue": "",
     "output_type": "error",
     "traceback": [
      "\u001b[1;31m---------------------------------------------------------------------------\u001b[0m",
      "\u001b[1;31mKeyboardInterrupt\u001b[0m                         Traceback (most recent call last)",
      "Cell \u001b[1;32mIn[3], line 6\u001b[0m\n\u001b[0;32m      4\u001b[0m board\u001b[38;5;241m.\u001b[39mdigital[\u001b[38;5;241m9\u001b[39m]\u001b[38;5;241m.\u001b[39mwrite(\u001b[38;5;241m1\u001b[39m) \u001b[38;5;66;03m# digital pin 13 = built-in LED\u001b[39;00m\n\u001b[0;32m      5\u001b[0m board\u001b[38;5;241m.\u001b[39mdigital[\u001b[38;5;241m10\u001b[39m]\u001b[38;5;241m.\u001b[39mwrite(\u001b[38;5;241m1\u001b[39m) \u001b[38;5;66;03m# digital pin 13 = built-in LED\u001b[39;00m\n\u001b[1;32m----> 6\u001b[0m \u001b[43mtime\u001b[49m\u001b[38;5;241;43m.\u001b[39;49m\u001b[43msleep\u001b[49m\u001b[43m(\u001b[49m\u001b[38;5;241;43m10\u001b[39;49m\u001b[43m)\u001b[49m \u001b[38;5;66;03m# second\u001b[39;00m\n\u001b[0;32m      7\u001b[0m \u001b[38;5;28mprint\u001b[39m(\u001b[38;5;124mf\u001b[39m\u001b[38;5;124m\"\u001b[39m\u001b[38;5;124mLOW\u001b[39m\u001b[38;5;124m\"\u001b[39m)\n\u001b[0;32m      8\u001b[0m \u001b[38;5;66;03m# For the relay board: LOW = ON\u001b[39;00m\n",
      "\u001b[1;31mKeyboardInterrupt\u001b[0m: "
     ]
    }
   ],
   "source": [
    "while True:\n",
    "    print(f\"HIGH\")\n",
    "    # For the relay board: HIGH = OFF\n",
    "    board.digital[9].write(1) # digital pin 13 = built-in LED\n",
    "    board.digital[10].write(1) # digital pin 13 = built-in LED\n",
    "    time.sleep(10) # second\n",
    "    print(f\"LOW\")\n",
    "    # For the relay board: LOW = ON\n",
    "    board.digital[9].write(0)\n",
    "    board.digital[10].write(0)\n",
    "    time.sleep(10)"
   ]
  },
  {
   "cell_type": "code",
   "execution_count": 1,
   "id": "aed225c8",
   "metadata": {},
   "outputs": [],
   "source": [
    "import pyfirmata\n",
    "import time\n",
    "        # init the arduino board\n",
    "            # Y0 = read phase (only control gate, drain)\n",
    "            # Y1 = write phase (control all switches: gate, drain, source)\n",
    "arduino_bin_mux_z = 10 # (HIGH = OFF/ LOW = ON)\n",
    "\n",
    "arduino_bin_mux_s0 = 2 # (lsb)\n",
    "arduino_bin_mux_s1 = 3 #\n",
    "arduino_bin_mux_s2 = 4 # (msb)\n",
    "\n",
    "arduino_bin_mux_enable = 6 #\n",
    "\n",
    "arduino_board = pyfirmata.Arduino('COM8')\n",
    "    # # ======\n",
    "    # # Open all switches\n",
    "    # # ======\n",
    "    # For the relay board: HIGH = OFF = OPEN // LOW = ON = CLOSE\n",
    "arduino_board.digital[arduino_bin_mux_enable].write(1)\n",
    "time.sleep(1)\n",
    "\n",
    "\n",
    "                # ======\n",
    "                # Prepare switch (still OPEN)\n",
    "                # ======\n",
    "     # configure Z - Y1 (write)\n",
    "arduino_board.digital[arduino_bin_mux_s0].write(1)\n",
    "arduino_board.digital[arduino_bin_mux_s1].write(0)\n",
    "arduino_board.digital[arduino_bin_mux_s2].write(0)\n",
    "time.sleep(0.1)\n"
   ]
  },
  {
   "cell_type": "code",
   "execution_count": 3,
   "id": "6950a652",
   "metadata": {},
   "outputs": [],
   "source": [
    "# pulse width (close switch)\n",
    "                    # close switch\n",
    "arduino_board.digital[arduino_bin_mux_enable].write(1)\n",
    "                "
   ]
  },
  {
   "cell_type": "markdown",
   "id": "830f07b8",
   "metadata": {},
   "source": [
    "# Keithley"
   ]
  },
  {
   "cell_type": "code",
   "execution_count": 54,
   "id": "12d33357",
   "metadata": {},
   "outputs": [],
   "source": [
    "import pyvisa"
   ]
  },
  {
   "cell_type": "code",
   "execution_count": 55,
   "id": "748608de",
   "metadata": {},
   "outputs": [
    {
     "name": "stdout",
     "output_type": "stream",
     "text": [
      "('USB0::0x05E6::0x2636::4480001::INSTR',)\n"
     ]
    }
   ],
   "source": [
    "rm = pyvisa.ResourceManager('C:/windows/System32/visa64.dll')\n",
    "print(rm.list_resources())"
   ]
  },
  {
   "cell_type": "code",
   "execution_count": 56,
   "id": "84a97794",
   "metadata": {},
   "outputs": [],
   "source": [
    "from  keithley2600 import Keithley2600"
   ]
  },
  {
   "cell_type": "code",
   "execution_count": 57,
   "id": "58b41d39",
   "metadata": {},
   "outputs": [],
   "source": [
    "k = Keithley2600('USB0::0x05E6::0x2636::4480001::INSTR', visa_library = 'C:/windows/System32/visa64.dll', timeout = 100000)"
   ]
  },
  {
   "cell_type": "code",
   "execution_count": 58,
   "id": "2e89b3a9",
   "metadata": {},
   "outputs": [],
   "source": [
    "# turn on SMUA\n",
    "k.smua.source.output = k.smua.OUTPUT_ON "
   ]
  },
  {
   "cell_type": "code",
   "execution_count": 59,
   "id": "9d28bbe7",
   "metadata": {},
   "outputs": [],
   "source": [
    "k.smua.source.output = k.smua.OUTPUT_OFF"
   ]
  },
  {
   "cell_type": "code",
   "execution_count": 60,
   "id": "54ccac3c",
   "metadata": {},
   "outputs": [],
   "source": [
    "k.smub.source.output = k.smua.OUTPUT_OFF"
   ]
  },
  {
   "cell_type": "markdown",
   "id": "5061d022",
   "metadata": {},
   "source": [
    "## measurement of the gate resistance"
   ]
  },
  {
   "cell_type": "code",
   "execution_count": null,
   "id": "429eca3d",
   "metadata": {},
   "outputs": [],
   "source": [
    "# Restore 2600B defaults.\n",
    "k.smua.reset()\n",
    "# Select the voltage source function.\n",
    "k.smua.source.func = k.smua.OUTPUT_DCVOLTS\n",
    "# set range voltage\n",
    "k.smua.source.rangev = 1e-3\n",
    "# Set the voltage source level to -0.1 V\n",
    "k.smua.source.levelv = -0.1\n",
    "# Set the current limit to 1m A. = safety\n",
    "k.smua.source.limiti = 1\n",
    "# Enable 2-wire ohms.\n",
    "k.smua.sense = k.smua.SENSE_LOCAL\n",
    "# Set the current range to auto.\n",
    "k.smua.measure.autorangei = k.smua.AUTORANGE_ON\n",
    "# Turn on output.\n",
    "k.smua.source.output = k.smua.OUTPUT_ON"
   ]
  },
  {
   "cell_type": "code",
   "execution_count": null,
   "id": "4ef3a2cc",
   "metadata": {},
   "outputs": [],
   "source": [
    "k.display.screen = k.display.SMUA\n",
    "\n",
    "# Display current.\n",
    "k.display.smua.measure.func = k.display.MEASURE_DCAMPS"
   ]
  },
  {
   "cell_type": "code",
   "execution_count": null,
   "id": "b2fd99b3",
   "metadata": {},
   "outputs": [],
   "source": [
    "# Retrieve a resistance reading.\n",
    "import time\n",
    "time.sleep(1) # for the system to be stable\n",
    "measured_r = []\n",
    "for i in range(0, 100): # make 100 measurement and take average\n",
    "    sample_r = k.smua.measure.r()\n",
    "    measured_r.append(sample_r)\n",
    "    time.sleep(0.1)"
   ]
  },
  {
   "cell_type": "code",
   "execution_count": null,
   "id": "ec6d1d39",
   "metadata": {},
   "outputs": [],
   "source": [
    "measured_i = k.smua.measure.i()"
   ]
  },
  {
   "cell_type": "code",
   "execution_count": null,
   "id": "73a90f08",
   "metadata": {},
   "outputs": [],
   "source": [
    "# Turn off output.\n",
    "k.smua.source.output = k.smua.OUTPUT_OFF"
   ]
  },
  {
   "cell_type": "code",
   "execution_count": null,
   "id": "626788db",
   "metadata": {},
   "outputs": [
    {
     "name": "stdout",
     "output_type": "stream",
     "text": [
      "measured_i=-2.42314e-10\n"
     ]
    }
   ],
   "source": [
    "print(f\"{measured_i=}\")"
   ]
  },
  {
   "cell_type": "code",
   "execution_count": null,
   "id": "d8e3eb66",
   "metadata": {},
   "outputs": [
    {
     "name": "stdout",
     "output_type": "stream",
     "text": [
      "r = 229821.932 kOhm\n"
     ]
    }
   ],
   "source": [
    "import numpy as np\n",
    "print(f\"r = {(sum(measured_r) / len(measured_r))/ 1e3} kOhm\")"
   ]
  },
  {
   "cell_type": "markdown",
   "id": "e97dbe32",
   "metadata": {},
   "source": [
    "REPORT OF THE MEASUREMENT \n",
    "\n",
    "- Detail: gate resistance of oect\n",
    "  - source gate at gate: -0.1 V, measure gate current -> gate resistance\n",
    "\n",
    "  - 1. OECT 6: r = 43515.091 kOhm\n",
    "\n",
    "  - 2. OECT 5:\n",
    "\n",
    "  - 3. OECT 4: r = 29964.772 kOhm\n",
    "\n",
    "  - 4. OECT 3: \n",
    "\n",
    "  - 5. OECT 2: r = 162776.837 kOhm \n",
    "\n",
    "  - 6. OECT 1: \n",
    "\n",
    "  - 7. OECT 12: r = 199738.36 kOhm\n",
    "\n",
    "  - 8. OECT 11: \n",
    "\n",
    "  - 9. OECT 10: r = 289152.24 kOhm\n",
    "\n",
    "  - 10. OECT 9: r = 108540247.0 kOhm (no electrolite)\n",
    "\n",
    "  - 11. OECT 8: r = 274468.76 kOhm\n",
    "\n",
    "  - 12. OECT 7: r = 186389.333 kOhm"
   ]
  },
  {
   "cell_type": "markdown",
   "id": "5b81c365",
   "metadata": {},
   "source": [
    "## measurement of the channel resistance"
   ]
  },
  {
   "cell_type": "code",
   "execution_count": null,
   "id": "67e92fbc",
   "metadata": {},
   "outputs": [
    {
     "name": "stdout",
     "output_type": "stream",
     "text": [
      "time.time() - start =0.08060240745544434\n"
     ]
    }
   ],
   "source": [
    "# Restore 2600B defaults.\n",
    "start = time.time()\n",
    "k.smub.reset()\n",
    "print(f\"{time.time() - start =}\")\n",
    "# Select the voltage source function.\n",
    "k.smub.source.func = k.smub.OUTPUT_DCVOLTS\n",
    "# set range voltage\n",
    "k.smub.source.rangev = 1e-3\n",
    "# Set the voltage source level to -0.1 V\n",
    "k.smub.source.levelv = -0.1\n",
    "# Set the current limit to 1m A. = safety\n",
    "k.smub.source.limiti = 1\n",
    "# Enable 2-wire ohms.\n",
    "k.smub.sense = k.smub.SENSE_LOCAL\n",
    "# Set the current range to auto.\n",
    "k.smub.measure.autorangei = k.smub.AUTORANGE_ON\n",
    "# Turn on output.\n",
    "k.smub.source.output = k.smub.OUTPUT_ON"
   ]
  },
  {
   "cell_type": "code",
   "execution_count": null,
   "id": "293d1d25",
   "metadata": {},
   "outputs": [
    {
     "name": "stdout",
     "output_type": "stream",
     "text": [
      "time.time() - start =0.0009996891021728516\n"
     ]
    }
   ],
   "source": [
    "start = time.time()\n",
    "k.display.screen = k.display.SMUB\n",
    "print(f\"{time.time() - start =}\")\n",
    "\n",
    "# Display current.\n",
    "k.display.smub.measure.func = k.display.MEASURE_DCAMPS\n"
   ]
  },
  {
   "cell_type": "code",
   "execution_count": null,
   "id": "30317ee5",
   "metadata": {},
   "outputs": [
    {
     "name": "stdout",
     "output_type": "stream",
     "text": [
      "time.time() - start =0.07371163368225098\n",
      "time.time() - start =0.018572092056274414\n",
      "time.time() - start =0.016056060791015625\n",
      "time.time() - start =0.02064990997314453\n",
      "time.time() - start =0.02130579948425293\n",
      "time.time() - start =0.021399974822998047\n",
      "time.time() - start =0.02134084701538086\n",
      "time.time() - start =0.014673709869384766\n",
      "time.time() - start =0.02133798599243164\n",
      "time.time() - start =0.015389680862426758\n",
      "time.time() - start =0.02263808250427246\n",
      "time.time() - start =0.022048234939575195\n",
      "time.time() - start =0.021402597427368164\n",
      "time.time() - start =0.0199587345123291\n",
      "time.time() - start =0.013123035430908203\n",
      "time.time() - start =0.015518426895141602\n",
      "time.time() - start =0.0167233943939209\n",
      "time.time() - start =0.012906789779663086\n",
      "time.time() - start =0.01691436767578125\n",
      "time.time() - start =0.020114898681640625\n",
      "time.time() - start =0.02159595489501953\n",
      "time.time() - start =0.022215843200683594\n",
      "time.time() - start =0.016351938247680664\n",
      "time.time() - start =0.017487764358520508\n",
      "time.time() - start =0.01606893539428711\n",
      "time.time() - start =0.01999974250793457\n",
      "time.time() - start =0.018045425415039062\n",
      "time.time() - start =0.022222042083740234\n",
      "time.time() - start =0.02243518829345703\n",
      "time.time() - start =0.0200042724609375\n",
      "time.time() - start =0.021535873413085938\n",
      "time.time() - start =0.020041704177856445\n",
      "time.time() - start =0.021427154541015625\n",
      "time.time() - start =0.020659446716308594\n",
      "time.time() - start =0.02177882194519043\n",
      "time.time() - start =0.020351886749267578\n",
      "time.time() - start =0.021919965744018555\n",
      "time.time() - start =0.020074844360351562\n",
      "time.time() - start =0.02057790756225586\n",
      "time.time() - start =0.020036935806274414\n",
      "time.time() - start =0.020918607711791992\n",
      "time.time() - start =0.014180421829223633\n",
      "time.time() - start =0.022122621536254883\n",
      "time.time() - start =0.020580768585205078\n",
      "time.time() - start =0.02172708511352539\n",
      "time.time() - start =0.019761323928833008\n",
      "time.time() - start =0.01721024513244629\n",
      "time.time() - start =0.02004861831665039\n",
      "time.time() - start =0.021240234375\n",
      "time.time() - start =0.02027440071105957\n",
      "time.time() - start =0.02179551124572754\n",
      "time.time() - start =0.020369768142700195\n",
      "time.time() - start =0.021210908889770508\n",
      "time.time() - start =0.019988298416137695\n",
      "time.time() - start =0.021659374237060547\n",
      "time.time() - start =0.01801133155822754\n",
      "time.time() - start =0.021647214889526367\n",
      "time.time() - start =0.01999187469482422\n",
      "time.time() - start =0.021999359130859375\n",
      "time.time() - start =0.022104978561401367\n",
      "time.time() - start =0.021244525909423828\n",
      "time.time() - start =0.020021438598632812\n",
      "time.time() - start =0.02123880386352539\n",
      "time.time() - start =0.020153522491455078\n",
      "time.time() - start =0.021759510040283203\n",
      "time.time() - start =0.020573854446411133\n",
      "time.time() - start =0.02093815803527832\n",
      "time.time() - start =0.02154088020324707\n",
      "time.time() - start =0.021648406982421875\n",
      "time.time() - start =0.02199840545654297\n",
      "time.time() - start =0.021520614624023438\n",
      "time.time() - start =0.021077632904052734\n",
      "time.time() - start =0.021468400955200195\n",
      "time.time() - start =0.021269798278808594\n",
      "time.time() - start =0.021581172943115234\n",
      "time.time() - start =0.020107030868530273\n",
      "time.time() - start =0.02190995216369629\n",
      "time.time() - start =0.020272254943847656\n",
      "time.time() - start =0.02178812026977539\n",
      "time.time() - start =0.02059340476989746\n",
      "time.time() - start =0.015775442123413086\n",
      "time.time() - start =0.020043373107910156\n",
      "time.time() - start =0.012759923934936523\n",
      "time.time() - start =0.020318031311035156\n",
      "time.time() - start =0.017866134643554688\n",
      "time.time() - start =0.020105600357055664\n",
      "time.time() - start =0.0216522216796875\n",
      "time.time() - start =0.02008819580078125\n",
      "time.time() - start =0.021602630615234375\n",
      "time.time() - start =0.02039170265197754\n",
      "time.time() - start =0.021872758865356445\n",
      "time.time() - start =0.019151926040649414\n",
      "time.time() - start =0.021753787994384766\n",
      "time.time() - start =0.016640663146972656\n",
      "time.time() - start =0.021726608276367188\n",
      "time.time() - start =0.01994919776916504\n",
      "time.time() - start =0.02291560173034668\n",
      "time.time() - start =0.021818161010742188\n",
      "time.time() - start =0.021216154098510742\n",
      "time.time() - start =0.018352746963500977\n"
     ]
    }
   ],
   "source": [
    "# Retrieve a resistance reading.\n",
    "import time\n",
    "time.sleep(1) # for the system to be stable\n",
    "measured_r = []\n",
    "for i in range(0, 100): # make 100 measurement and take average\n",
    "    start = time.time()\n",
    "    sample_r = k.smub.measure.r()\n",
    "    print(f\"{time.time() - start =}\")\n",
    "    measured_r.append(sample_r)\n",
    "    time.sleep(0.1)"
   ]
  },
  {
   "cell_type": "code",
   "execution_count": null,
   "id": "54cce09f",
   "metadata": {},
   "outputs": [
    {
     "name": "stdout",
     "output_type": "stream",
     "text": [
      "time.time() - start =0.0\n"
     ]
    }
   ],
   "source": [
    "# Turn off output.\n",
    "start = time.time()\n",
    "k.smub.source.output = k.smub.OUTPUT_OFF\n",
    "print(f\"{time.time() - start =}\")"
   ]
  },
  {
   "cell_type": "code",
   "execution_count": null,
   "id": "4734e4d3",
   "metadata": {},
   "outputs": [
    {
     "name": "stdout",
     "output_type": "stream",
     "text": [
      "r = 1.0165949 kOhm\n"
     ]
    }
   ],
   "source": [
    "import numpy as np\n",
    "print(f\"r = {(sum(measured_r) / len(measured_r))/ 1e3} kOhm\")"
   ]
  },
  {
   "cell_type": "markdown",
   "id": "fadea2cf",
   "metadata": {},
   "source": [
    "REPORT OF THE MEASUREMENT \n",
    "\n",
    "- Detail: channel resistance of oect\n",
    "  - source voltage at drain/ source: -0.1 V, measure channel current -> channel resistance\n",
    "\n",
    "  - 1. OECT 6: r = 1.5841850000000008 kOhm\n",
    "\n",
    "  - 2. OECT 5: \n",
    "\n",
    "  - 3. OECT 4: r = 136971.111 kOhm\n",
    "\n",
    "  - 4. OECT 3: \n",
    "\n",
    "  - 5. OECT 2: r = 1.0626513 kOhm\n",
    "\n",
    "  - 6. OECT 1: \n",
    "\n",
    "  - 7. OECT 12: r = 0.39225782000000003 kOhm\n",
    "\n",
    "  - 8. OECT 11: r = 183672228.0 kOhm\n",
    "\n",
    "  - 9. OECT 10: r = 1.7085850999999996 kOhm\n",
    "\n",
    "  - 10. OECT 9: r = 16.186825000000006 kOhm\n",
    "\n",
    "  - 11. OECT 8: r = 0.3466316899999998 kOhm\n",
    "\n",
    "  - 12. OECT 7: r = 488363.17 kOhm"
   ]
  },
  {
   "cell_type": "markdown",
   "id": "a63873df",
   "metadata": {},
   "source": [
    "## timing the congfiguration command and read-from instrument command"
   ]
  },
  {
   "cell_type": "code",
   "execution_count": null,
   "id": "cc75208a",
   "metadata": {},
   "outputs": [],
   "source": [
    "import time"
   ]
  },
  {
   "cell_type": "code",
   "execution_count": null,
   "id": "dae5446a",
   "metadata": {},
   "outputs": [],
   "source": [
    "start = time.time()\n",
    "k.smub.OUTPUT_OFF\n",
    "duration = time.time()- start"
   ]
  },
  {
   "cell_type": "code",
   "execution_count": null,
   "id": "72a8f253",
   "metadata": {},
   "outputs": [
    {
     "name": "stdout",
     "output_type": "stream",
     "text": [
      "0.007508993148803711\n"
     ]
    }
   ],
   "source": [
    "print(f\"{duration}\")"
   ]
  },
  {
   "cell_type": "code",
   "execution_count": null,
   "id": "1f3d1afe",
   "metadata": {},
   "outputs": [
    {
     "ename": "VisaIOError",
     "evalue": "VI_ERROR_TMO (-1073807339): Timeout expired before operation completed.",
     "output_type": "error",
     "traceback": [
      "\u001b[1;31m---------------------------------------------------------------------------\u001b[0m",
      "\u001b[1;31mVisaIOError\u001b[0m                               Traceback (most recent call last)",
      "Cell \u001b[1;32mIn[10], line 2\u001b[0m\n\u001b[0;32m      1\u001b[0m start \u001b[38;5;241m=\u001b[39m time\u001b[38;5;241m.\u001b[39mtime()\n\u001b[1;32m----> 2\u001b[0m measured \u001b[38;5;241m=\u001b[39m \u001b[43mk\u001b[49m\u001b[38;5;241;43m.\u001b[39;49m\u001b[43msmua\u001b[49m\u001b[38;5;241;43m.\u001b[39;49m\u001b[43mmeasure\u001b[49m\u001b[38;5;241;43m.\u001b[39;49m\u001b[43mi\u001b[49m\u001b[43m(\u001b[49m\u001b[43m)\u001b[49m\n\u001b[0;32m      3\u001b[0m duration \u001b[38;5;241m=\u001b[39m time\u001b[38;5;241m.\u001b[39mtime()\u001b[38;5;241m-\u001b[39m start\n",
      "File \u001b[1;32mc:\\Users\\20245580\\AppData\\Local\\anaconda3\\envs\\microcontroller\\lib\\site-packages\\keithley2600\\keithley_driver.py:167\u001b[0m, in \u001b[0;36mKeithleyFunction.__call__\u001b[1;34m(self, *args)\u001b[0m\n\u001b[0;32m    164\u001b[0m args_string \u001b[38;5;241m=\u001b[39m \u001b[38;5;124m\"\u001b[39m\u001b[38;5;124m, \u001b[39m\u001b[38;5;124m\"\u001b[39m\u001b[38;5;241m.\u001b[39mjoin(args)\n\u001b[0;32m    166\u001b[0m \u001b[38;5;66;03m# pass on a string representation of the function call to self._parent._query\u001b[39;00m\n\u001b[1;32m--> 167\u001b[0m \u001b[38;5;28;01mreturn\u001b[39;00m \u001b[38;5;28;43mself\u001b[39;49m\u001b[38;5;241;43m.\u001b[39;49m\u001b[43m_parent\u001b[49m\u001b[38;5;241;43m.\u001b[39;49m\u001b[43m_query\u001b[49m\u001b[43m(\u001b[49m\u001b[38;5;124;43mf\u001b[39;49m\u001b[38;5;124;43m\"\u001b[39;49m\u001b[38;5;132;43;01m{\u001b[39;49;00m\u001b[38;5;28;43mself\u001b[39;49m\u001b[38;5;241;43m.\u001b[39;49m\u001b[43m_name\u001b[49m\u001b[38;5;132;43;01m}\u001b[39;49;00m\u001b[38;5;124;43m(\u001b[39;49m\u001b[38;5;132;43;01m{\u001b[39;49;00m\u001b[43margs_string\u001b[49m\u001b[38;5;132;43;01m}\u001b[39;49;00m\u001b[38;5;124;43m)\u001b[39;49m\u001b[38;5;124;43m\"\u001b[39;49m\u001b[43m)\u001b[49m\n",
      "File \u001b[1;32mc:\\Users\\20245580\\AppData\\Local\\anaconda3\\envs\\microcontroller\\lib\\site-packages\\keithley2600\\keithley_driver.py:413\u001b[0m, in \u001b[0;36mKeithleyClass._query\u001b[1;34m(self, value)\u001b[0m\n\u001b[0;32m    412\u001b[0m \u001b[38;5;28;01mdef\u001b[39;00m\u001b[38;5;250m \u001b[39m\u001b[38;5;21m_query\u001b[39m(\u001b[38;5;28mself\u001b[39m, value: \u001b[38;5;28mstr\u001b[39m) \u001b[38;5;241m-\u001b[39m\u001b[38;5;241m>\u001b[39m Any:\n\u001b[1;32m--> 413\u001b[0m     \u001b[38;5;28;01mreturn\u001b[39;00m \u001b[38;5;28;43mself\u001b[39;49m\u001b[38;5;241;43m.\u001b[39;49m\u001b[43m_parent\u001b[49m\u001b[38;5;241;43m.\u001b[39;49m\u001b[43m_query\u001b[49m\u001b[43m(\u001b[49m\u001b[43mvalue\u001b[49m\u001b[43m)\u001b[49m\n",
      "File \u001b[1;32mc:\\Users\\20245580\\AppData\\Local\\anaconda3\\envs\\microcontroller\\lib\\site-packages\\keithley2600\\keithley_driver.py:413\u001b[0m, in \u001b[0;36mKeithleyClass._query\u001b[1;34m(self, value)\u001b[0m\n\u001b[0;32m    412\u001b[0m \u001b[38;5;28;01mdef\u001b[39;00m\u001b[38;5;250m \u001b[39m\u001b[38;5;21m_query\u001b[39m(\u001b[38;5;28mself\u001b[39m, value: \u001b[38;5;28mstr\u001b[39m) \u001b[38;5;241m-\u001b[39m\u001b[38;5;241m>\u001b[39m Any:\n\u001b[1;32m--> 413\u001b[0m     \u001b[38;5;28;01mreturn\u001b[39;00m \u001b[38;5;28;43mself\u001b[39;49m\u001b[38;5;241;43m.\u001b[39;49m\u001b[43m_parent\u001b[49m\u001b[38;5;241;43m.\u001b[39;49m\u001b[43m_query\u001b[49m\u001b[43m(\u001b[49m\u001b[43mvalue\u001b[49m\u001b[43m)\u001b[49m\n",
      "File \u001b[1;32mc:\\Users\\20245580\\AppData\\Local\\anaconda3\\envs\\microcontroller\\lib\\site-packages\\keithley2600\\keithley_driver.py:699\u001b[0m, in \u001b[0;36mKeithley2600Base._query\u001b[1;34m(self, value)\u001b[0m\n\u001b[0;32m    697\u001b[0m \u001b[38;5;28;01melse\u001b[39;00m:\n\u001b[0;32m    698\u001b[0m     \u001b[38;5;28;01mtry\u001b[39;00m:\n\u001b[1;32m--> 699\u001b[0m         r \u001b[38;5;241m=\u001b[39m \u001b[38;5;28;43mself\u001b[39;49m\u001b[38;5;241;43m.\u001b[39;49m\u001b[43mconnection\u001b[49m\u001b[38;5;241;43m.\u001b[39;49m\u001b[43mquery\u001b[49m\u001b[43m(\u001b[49m\u001b[38;5;124;43mf\u001b[39;49m\u001b[38;5;124;43m\"\u001b[39;49m\u001b[38;5;124;43mprint(\u001b[39;49m\u001b[38;5;132;43;01m{\u001b[39;49;00m\u001b[43mvalue\u001b[49m\u001b[38;5;132;43;01m}\u001b[39;49;00m\u001b[38;5;124;43m)\u001b[39;49m\u001b[38;5;124;43m\"\u001b[39;49m\u001b[43m)\u001b[49m\n\u001b[0;32m    700\u001b[0m         logger\u001b[38;5;241m.\u001b[39mdebug(\u001b[38;5;124m\"\u001b[39m\u001b[38;5;124mread: \u001b[39m\u001b[38;5;132;01m%s\u001b[39;00m\u001b[38;5;124m\"\u001b[39m, r)\n\u001b[0;32m    701\u001b[0m     \u001b[38;5;28;01mexcept\u001b[39;00m XDRError:\n",
      "File \u001b[1;32mc:\\Users\\20245580\\AppData\\Local\\anaconda3\\envs\\microcontroller\\lib\\site-packages\\pyvisa\\resources\\messagebased.py:690\u001b[0m, in \u001b[0;36mMessageBasedResource.query\u001b[1;34m(self, message, delay)\u001b[0m\n\u001b[0;32m    687\u001b[0m \u001b[38;5;28;01mif\u001b[39;00m delay \u001b[38;5;241m>\u001b[39m \u001b[38;5;241m0.0\u001b[39m:\n\u001b[0;32m    688\u001b[0m     time\u001b[38;5;241m.\u001b[39msleep(delay)\n\u001b[1;32m--> 690\u001b[0m \u001b[38;5;28;01mreturn\u001b[39;00m \u001b[38;5;28;43mself\u001b[39;49m\u001b[38;5;241;43m.\u001b[39;49m\u001b[43mread\u001b[49m\u001b[43m(\u001b[49m\u001b[43m)\u001b[49m\n",
      "File \u001b[1;32mc:\\Users\\20245580\\AppData\\Local\\anaconda3\\envs\\microcontroller\\lib\\site-packages\\pyvisa\\resources\\messagebased.py:519\u001b[0m, in \u001b[0;36mMessageBasedResource.read\u001b[1;34m(self, termination, encoding)\u001b[0m\n\u001b[0;32m    517\u001b[0m \u001b[38;5;28;01mif\u001b[39;00m termination \u001b[38;5;129;01mis\u001b[39;00m \u001b[38;5;28;01mNone\u001b[39;00m:\n\u001b[0;32m    518\u001b[0m     termination \u001b[38;5;241m=\u001b[39m \u001b[38;5;28mself\u001b[39m\u001b[38;5;241m.\u001b[39m_read_termination\n\u001b[1;32m--> 519\u001b[0m     message \u001b[38;5;241m=\u001b[39m \u001b[38;5;28;43mself\u001b[39;49m\u001b[38;5;241;43m.\u001b[39;49m\u001b[43m_read_raw\u001b[49m\u001b[43m(\u001b[49m\u001b[43m)\u001b[49m\u001b[38;5;241m.\u001b[39mdecode(enco)\n\u001b[0;32m    520\u001b[0m \u001b[38;5;28;01melse\u001b[39;00m:\n\u001b[0;32m    521\u001b[0m     \u001b[38;5;28;01mwith\u001b[39;00m \u001b[38;5;28mself\u001b[39m\u001b[38;5;241m.\u001b[39mread_termination_context(termination):\n",
      "File \u001b[1;32mc:\\Users\\20245580\\AppData\\Local\\anaconda3\\envs\\microcontroller\\lib\\site-packages\\pyvisa\\resources\\messagebased.py:473\u001b[0m, in \u001b[0;36mMessageBasedResource._read_raw\u001b[1;34m(self, size, monitoring_interface)\u001b[0m\n\u001b[0;32m    466\u001b[0m \u001b[38;5;28;01mwhile\u001b[39;00m status \u001b[38;5;241m==\u001b[39m loop_status:\n\u001b[0;32m    467\u001b[0m     logger\u001b[38;5;241m.\u001b[39mdebug(\n\u001b[0;32m    468\u001b[0m         \u001b[38;5;124m\"\u001b[39m\u001b[38;5;132;01m%s\u001b[39;00m\u001b[38;5;124m - reading \u001b[39m\u001b[38;5;132;01m%d\u001b[39;00m\u001b[38;5;124m bytes (last status \u001b[39m\u001b[38;5;132;01m%r\u001b[39;00m\u001b[38;5;124m)\u001b[39m\u001b[38;5;124m\"\u001b[39m,\n\u001b[0;32m    469\u001b[0m         \u001b[38;5;28mself\u001b[39m\u001b[38;5;241m.\u001b[39m_resource_name,\n\u001b[0;32m    470\u001b[0m         size,\n\u001b[0;32m    471\u001b[0m         status,\n\u001b[0;32m    472\u001b[0m     )\n\u001b[1;32m--> 473\u001b[0m     chunk, status \u001b[38;5;241m=\u001b[39m \u001b[38;5;28;43mself\u001b[39;49m\u001b[38;5;241;43m.\u001b[39;49m\u001b[43mvisalib\u001b[49m\u001b[38;5;241;43m.\u001b[39;49m\u001b[43mread\u001b[49m\u001b[43m(\u001b[49m\u001b[38;5;28;43mself\u001b[39;49m\u001b[38;5;241;43m.\u001b[39;49m\u001b[43msession\u001b[49m\u001b[43m,\u001b[49m\u001b[43m \u001b[49m\u001b[43msize\u001b[49m\u001b[43m)\u001b[49m\n\u001b[0;32m    474\u001b[0m     \u001b[38;5;28;01mif\u001b[39;00m monitoring_interface:\n\u001b[0;32m    475\u001b[0m         monitoring_interface\u001b[38;5;241m.\u001b[39mupdate(\u001b[38;5;28mlen\u001b[39m(chunk))\n",
      "File \u001b[1;32mc:\\Users\\20245580\\AppData\\Local\\anaconda3\\envs\\microcontroller\\lib\\site-packages\\pyvisa\\ctwrapper\\functions.py:2339\u001b[0m, in \u001b[0;36mread\u001b[1;34m(library, session, count)\u001b[0m\n\u001b[0;32m   2337\u001b[0m buffer \u001b[38;5;241m=\u001b[39m create_string_buffer(count)\n\u001b[0;32m   2338\u001b[0m return_count \u001b[38;5;241m=\u001b[39m ViUInt32()\n\u001b[1;32m-> 2339\u001b[0m ret \u001b[38;5;241m=\u001b[39m \u001b[43mlibrary\u001b[49m\u001b[38;5;241;43m.\u001b[39;49m\u001b[43mviRead\u001b[49m\u001b[43m(\u001b[49m\u001b[43msession\u001b[49m\u001b[43m,\u001b[49m\u001b[43m \u001b[49m\u001b[43mbuffer\u001b[49m\u001b[43m,\u001b[49m\u001b[43m \u001b[49m\u001b[43mcount\u001b[49m\u001b[43m,\u001b[49m\u001b[43m \u001b[49m\u001b[43mbyref\u001b[49m\u001b[43m(\u001b[49m\u001b[43mreturn_count\u001b[49m\u001b[43m)\u001b[49m\u001b[43m)\u001b[49m\n\u001b[0;32m   2340\u001b[0m \u001b[38;5;28;01mreturn\u001b[39;00m buffer\u001b[38;5;241m.\u001b[39mraw[: return_count\u001b[38;5;241m.\u001b[39mvalue], ret\n",
      "File \u001b[1;32mc:\\Users\\20245580\\AppData\\Local\\anaconda3\\envs\\microcontroller\\lib\\site-packages\\pyvisa\\ctwrapper\\highlevel.py:227\u001b[0m, in \u001b[0;36mIVIVisaLibrary._return_handler\u001b[1;34m(self, ret_value, func, arguments)\u001b[0m\n\u001b[0;32m    224\u001b[0m         \u001b[38;5;66;03m# Set session back to a safe value\u001b[39;00m\n\u001b[0;32m    225\u001b[0m         session \u001b[38;5;241m=\u001b[39m \u001b[38;5;28;01mNone\u001b[39;00m\n\u001b[1;32m--> 227\u001b[0m \u001b[38;5;28;01mreturn\u001b[39;00m \u001b[38;5;28;43mself\u001b[39;49m\u001b[38;5;241;43m.\u001b[39;49m\u001b[43mhandle_return_value\u001b[49m\u001b[43m(\u001b[49m\u001b[43msession\u001b[49m\u001b[43m,\u001b[49m\u001b[43m \u001b[49m\u001b[43mret_value\u001b[49m\u001b[43m)\u001b[49m\n",
      "File \u001b[1;32mc:\\Users\\20245580\\AppData\\Local\\anaconda3\\envs\\microcontroller\\lib\\site-packages\\pyvisa\\highlevel.py:252\u001b[0m, in \u001b[0;36mVisaLibraryBase.handle_return_value\u001b[1;34m(self, session, status_code)\u001b[0m\n\u001b[0;32m    249\u001b[0m     \u001b[38;5;28mself\u001b[39m\u001b[38;5;241m.\u001b[39m_last_status_in_session[session] \u001b[38;5;241m=\u001b[39m rv\n\u001b[0;32m    251\u001b[0m \u001b[38;5;28;01mif\u001b[39;00m rv \u001b[38;5;241m<\u001b[39m \u001b[38;5;241m0\u001b[39m:\n\u001b[1;32m--> 252\u001b[0m     \u001b[38;5;28;01mraise\u001b[39;00m errors\u001b[38;5;241m.\u001b[39mVisaIOError(rv)\n\u001b[0;32m    254\u001b[0m \u001b[38;5;28;01mif\u001b[39;00m rv \u001b[38;5;129;01min\u001b[39;00m \u001b[38;5;28mself\u001b[39m\u001b[38;5;241m.\u001b[39missue_warning_on:\n\u001b[0;32m    255\u001b[0m     \u001b[38;5;28;01mif\u001b[39;00m session \u001b[38;5;129;01mand\u001b[39;00m rv \u001b[38;5;129;01mnot\u001b[39;00m \u001b[38;5;129;01min\u001b[39;00m \u001b[38;5;28mself\u001b[39m\u001b[38;5;241m.\u001b[39m_ignore_warning_in_session[session]:\n",
      "\u001b[1;31mVisaIOError\u001b[0m: VI_ERROR_TMO (-1073807339): Timeout expired before operation completed."
     ]
    }
   ],
   "source": [
    "start = time.time()\n",
    "measured = k.smua.measure.i()\n",
    "duration = time.time()- start"
   ]
  },
  {
   "cell_type": "code",
   "execution_count": null,
   "id": "a0a182bb",
   "metadata": {},
   "outputs": [],
   "source": [
    "print(f\"{duration}\")"
   ]
  },
  {
   "cell_type": "markdown",
   "id": "f7199b6f",
   "metadata": {},
   "source": [
    "## Using internal function of Keithley to generate pulse V, measure I\n",
    "\n",
    "- 1. generate pulse V, measure I, collect I from internal memory.\n",
    "\n",
    "- 2. set the voltage at the channel after finishing pulsing"
   ]
  },
  {
   "cell_type": "markdown",
   "id": "63b25700",
   "metadata": {},
   "source": [
    "### EX 1\n",
    "\n",
    "- 1. store values in the internal buffer\n",
    "\n",
    "- 2. access the internal buffer\n",
    "\n",
    "**REFERENCE**\n",
    "\n",
    "- [1] `../2600BS-901-01F_2600B_Reference_Aug2021.pdf` - page 3.8"
   ]
  },
  {
   "cell_type": "code",
   "execution_count": 61,
   "id": "eb5ee4b5",
   "metadata": {},
   "outputs": [],
   "source": [
    "# -- Restore 2600B defaults.\n",
    "k.smua.reset()\n",
    "# -- Select channel A display.\n",
    "k.display.screen = k.display.SMUA\n",
    "# -- Display current.\n",
    "k.display.smua.measure.func = k.display.MEASURE_DCAMPS\n",
    "#-- Select measure I autorange.\n",
    "k.smua.measure.autorangei = k.smua.AUTORANGE_ON # (with very small current -> timeout error)\n",
    "# k.smua.measure.rangei = 1e-7\n",
    "\n",
    "# turn autozero off for sweeping or time critical measurements\n",
    "k.smua.measure.autozero = k.smua.AUTOZERO_OFF\n",
    "\n",
    "#-- Select ASCII data format.\n",
    "k.format.data = k.format.ASCII\n",
    "#-- Clear buffer 1.\n",
    "k.smua.nvbuffer1.clear()\n",
    "#-- Enable append buffer mode.\n",
    "k.smua.nvbuffer1.appendmode = 1\n",
    "#-- Enable source value storage.\n",
    "k.smua.nvbuffer1.collectsourcevalues = 1\n",
    "\n",
    "#-- Enable source value storage.\n",
    "k.smua.nvbuffer1.collecttimestamps = 1\n",
    "\n",
    "#-- Set the count to 1.\n",
    "k.smua.measure.count = 1\n",
    "#-- Select the source voltage function.\n",
    "k.smua.source.func = k.smua.OUTPUT_DCVOLTS\n",
    "#-- Set the bias voltage to 0 V.\n",
    "k.smua.source.levelv = 0.0\n",
    "#-- Turn on the output.\n",
    "k.smua.source.output = k.smua.OUTPUT_ON\n"
   ]
  },
  {
   "cell_type": "code",
   "execution_count": null,
   "id": "07b46bba",
   "metadata": {},
   "outputs": [],
   "source": [
    "k.timeout = 20 # [s], to account for the autorange_on effect if there is very small current (pA) measured."
   ]
  },
  {
   "cell_type": "code",
   "execution_count": 63,
   "id": "6da81f79",
   "metadata": {},
   "outputs": [],
   "source": [
    "import time\n",
    "#-- Loop for voltages from 0.01 V to 1 V.\n",
    "for v in range(0,10):\n",
    "    #-- Set the source voltage.\n",
    "    k.smua.source.levelv = v * 0.01 \n",
    "    #-- Measure the current and store in nvbuffer1.\n",
    "    k.smua.measure.i(k.smua.nvbuffer1)\n",
    "    # print(f\"{result=}\")\n",
    "    time.sleep(0.5)\n",
    "\n"
   ]
  },
  {
   "cell_type": "code",
   "execution_count": 64,
   "id": "df9268ee",
   "metadata": {},
   "outputs": [],
   "source": [
    "#-- Turn off the output.\n",
    "k.smua.source.output = k.smua.OUTPUT_OFF\n"
   ]
  },
  {
   "cell_type": "code",
   "execution_count": 65,
   "id": "875a55a6",
   "metadata": {},
   "outputs": [
    {
     "name": "stdout",
     "output_type": "stream",
     "text": [
      "10\n"
     ]
    }
   ],
   "source": [
    "# print out how many samples stored in the buffer\n",
    "print(f\"{k.smua.nvbuffer1.n}\")\n",
    "n_samples = k.smua.nvbuffer1.n"
   ]
  },
  {
   "cell_type": "code",
   "execution_count": 66,
   "id": "1dd931af",
   "metadata": {},
   "outputs": [
    {
     "name": "stdout",
     "output_type": "stream",
     "text": [
      "k.smua.nvbuffer1[i+1]=9.24944e-11\n",
      "k.smua.nvbuffer1[i+1]=1.02181e-08\n",
      "k.smua.nvbuffer1[i+1]=1.92055e-08\n",
      "k.smua.nvbuffer1[i+1]=2.93674e-08\n",
      "k.smua.nvbuffer1[i+1]=3.95191e-08\n",
      "k.smua.nvbuffer1[i+1]=4.96393e-08\n",
      "k.smua.nvbuffer1[i+1]=5.97744e-08\n",
      "k.smua.nvbuffer1[i+1]=6.98972e-08\n",
      "k.smua.nvbuffer1[i+1]=8.00139e-08\n",
      "k.smua.nvbuffer1[i+1]=9.0138e-08\n"
     ]
    }
   ],
   "source": [
    "for i in range(0, n_samples):\n",
    "    print(f\"{k.smua.nvbuffer1[i+1]=}\")"
   ]
  },
  {
   "cell_type": "markdown",
   "id": "b1794f6b",
   "metadata": {},
   "source": [
    "**NOTE**\n",
    "\n",
    "- after configuring to collect the source value and timestamp besides the measured value,\n",
    "\n",
    " we can access the source values and time stamps with\n",
    "\n",
    " `k.smua.nvbuffer1.timestamps[index]`\n",
    "\n",
    " `k.smua.nvbuffer1.sourcevalues[2]` \n",
    "- we can create many handles to the same physical instrument (Keithley 2636B)\n",
    "\n",
    "  - handle `k` created by the `Keithley2600` library which is good for setting up the system, and execute the functions\n",
    "\n",
    "  - to read out values from the internal buffer, we will create a handle from pyvisa `keithley_instr` for handle the reading out. \n",
    "\n",
    "  If we use `k` for `printbuffer` function, that causes the `k` object to be overwritten by the returned result of the `printbuffer`"
   ]
  },
  {
   "cell_type": "code",
   "execution_count": 42,
   "id": "5ccbe03a",
   "metadata": {},
   "outputs": [],
   "source": [
    "rm = pyvisa.ResourceManager('C:/windows/System32/visa64.dll')\n",
    "keithley_instr = rm.open_resource('USB0::0x05E6::0x2636::4480001::INSTR') "
   ]
  },
  {
   "cell_type": "code",
   "execution_count": 47,
   "id": "4da41e5a",
   "metadata": {},
   "outputs": [],
   "source": [
    "result_readings = keithley_instr.query('printbuffer(1, 100, smua.nvbuffer1.timestamps)')"
   ]
  },
  {
   "cell_type": "code",
   "execution_count": 48,
   "id": "89fc029b",
   "metadata": {},
   "outputs": [
    {
     "name": "stdout",
     "output_type": "stream",
     "text": [
      "result_readings='0.00000e+00, 3.38495e+00, 3.92876e+00, 4.47472e+00, 5.01190e+00, 5.55290e+00, 6.09958e+00, 6.64068e+00, 7.19050e+00, 7.73920e+00, 9.91000e+37, 9.91000e+37, 9.91000e+37, 9.91000e+37, 9.91000e+37, 9.91000e+37, 9.91000e+37, 9.91000e+37, 9.91000e+37, 9.91000e+37, 9.91000e+37, 9.91000e+37, 9.91000e+37, 9.91000e+37, 9.91000e+37, 9.91000e+37, 9.91000e+37, 9.91000e+37, 9.91000e+37, 9.91000e+37, 9.91000e+37, 9.91000e+37, 9.91000e+37, 9.91000e+37, 9.91000e+37, 9.91000e+37, 9.91000e+37, 9.91000e+37, 9.91000e+37, 9.91000e+37, 9.91000e+37, 9.91000e+37, 9.91000e+37, 9.91000e+37, 9.91000e+37, 9.91000e+37, 9.91000e+37, 9.91000e+37, 9.91000e+37, 9.91000e+37, 9.91000e+37, 9.91000e+37, 9.91000e+37, 9.91000e+37, 9.91000e+37, 9.91000e+37, 9.91000e+37, 9.91000e+37, 9.91000e+37, 9.91000e+37, 9.91000e+37, 9.91000e+37, 9.91000e+37, 9.91000e+37, 9.91000e+37, 9.91000e+37, 9.91000e+37, 9.91000e+37, 9.91000e+37, 9.91000e+37, 9.91000e+37, 9.91000e+37, 9.91000e+37, 9.91000e+37, 9.91000e+37, 9.91000e+37, 9.91000e+37, 9.91000e+37, 9.91000e+37, 9.91000e+37, 9.91000e+37, 9.91000e+37, 9.91000e+37, 9.91000e+37, 9.91000e+37, 9.91000e+37, 9.91000e+37, 9.91000e+37, 9.91000e+37, 9.91000e+37, 9.91000e+37, 9.91000e+37, 9.91000e+37, 9.91000e+37, 9.91000e+37, 9.91000e+37, 9.91000e+37, 9.91000e+37, 9.91000e+37, 9.91000e+37\\n'\n"
     ]
    }
   ],
   "source": [
    "print(f\"{result_readings=}\")"
   ]
  },
  {
   "cell_type": "code",
   "execution_count": 73,
   "id": "4f82efd9",
   "metadata": {},
   "outputs": [
    {
     "data": {
      "text/plain": [
       "4.46931"
      ]
     },
     "execution_count": 73,
     "metadata": {},
     "output_type": "execute_result"
    }
   ],
   "source": [
    "k.smua.nvbuffer1.timestamps[4]"
   ]
  },
  {
   "cell_type": "code",
   "execution_count": 68,
   "id": "6c3fa4c3",
   "metadata": {},
   "outputs": [
    {
     "data": {
      "text/plain": [
       "0.01"
      ]
     },
     "execution_count": 68,
     "metadata": {},
     "output_type": "execute_result"
    }
   ],
   "source": [
    "k.smua.nvbuffer1.sourcevalues[2]"
   ]
  },
  {
   "cell_type": "code",
   "execution_count": 77,
   "id": "a82c3d96",
   "metadata": {},
   "outputs": [
    {
     "data": {
      "text/plain": [
       "12"
      ]
     },
     "execution_count": 77,
     "metadata": {},
     "output_type": "execute_result"
    }
   ],
   "source": [
    "k.smua.nvbuffer1.statuses[5]"
   ]
  },
  {
   "cell_type": "code",
   "execution_count": 34,
   "id": "94cbf21e",
   "metadata": {},
   "outputs": [],
   "source": [
    "k.smua.source.output = k.smua.OUTPUT_ON"
   ]
  },
  {
   "cell_type": "code",
   "execution_count": 44,
   "id": "06f45038",
   "metadata": {},
   "outputs": [],
   "source": [
    "k.smua.source.output = k.smua.OUTPUT_OFF"
   ]
  },
  {
   "cell_type": "markdown",
   "id": "cc73b337",
   "metadata": {},
   "source": [
    "### EX 2\n",
    "\n",
    "- use built-in pulse function? to pulse and measure?"
   ]
  },
  {
   "cell_type": "code",
   "execution_count": 80,
   "id": "266d5e54",
   "metadata": {},
   "outputs": [],
   "source": [
    "k.smua.source.output = k.smua.OUTPUT_ON"
   ]
  },
  {
   "cell_type": "code",
   "execution_count": 99,
   "id": "116a553c",
   "metadata": {},
   "outputs": [],
   "source": [
    "# -- Restore 2600B defaults.\n",
    "k.smua.reset()\n",
    "#-- Select measure I autorange.\n",
    "k.smua.measure.autorangei = k.smua.AUTORANGE_ON # (with very small current -> timeout error)\n",
    "# k.smua.measure.rangei = 1e-7\n",
    "\n",
    "# turn autozero off for sweeping or time critical measurements\n",
    "k.smua.measure.autozero = k.smua.AUTOZERO_OFF\n",
    "\n",
    "#-- Select ASCII data format.\n",
    "k.format.data = k.format.ASCII\n",
    "#-- Clear buffer 1.\n",
    "k.smua.nvbuffer1.clear()\n",
    "#-- Enable append buffer mode.\n",
    "k.smua.nvbuffer1.appendmode = 1\n",
    "#-- Enable source value storage.\n",
    "k.smua.nvbuffer1.collectsourcevalues = 1\n",
    "\n",
    "#-- Enable source value storage.\n",
    "k.smua.nvbuffer1.collecttimestamps = 1\n",
    "\n",
    "#-- Turn on the output.\n",
    "k.smua.source.output = k.smua.OUTPUT_ON\n"
   ]
  },
  {
   "cell_type": "code",
   "execution_count": 110,
   "id": "7d788571",
   "metadata": {},
   "outputs": [],
   "source": [
    "#-- Restore 2600B defaults.\n",
    "k.smua.reset()\n",
    "# -- Set compliance to 1u A.\n",
    "k.smua.source.limiti = 1e-6\n",
    "\n",
    "# run the factory script\n",
    "# PulseVMeasureI(smu, bias, level, ton, toff, points)\n",
    "k.PulseVMeasureI(k.smua, 0, 0.2, 20e-3, 50e-3, 10) "
   ]
  },
  {
   "cell_type": "code",
   "execution_count": 111,
   "id": "91674db6",
   "metadata": {},
   "outputs": [
    {
     "name": "stdout",
     "output_type": "stream",
     "text": [
      "10\n",
      "i=0 ==========\n",
      "k.smua.nvbuffer1.readings[i+1]=2.22871e-07\n",
      "k.smua.nvbuffer1.sourcevalues[i+1]=0.2\n",
      "k.smua.nvbuffer1.timestamps[i+1]=0\n",
      "i=1 ==========\n",
      "k.smua.nvbuffer1.readings[i+1]=2.22861e-07\n",
      "k.smua.nvbuffer1.sourcevalues[i+1]=0.2\n",
      "k.smua.nvbuffer1.timestamps[i+1]=0.072565\n",
      "i=2 ==========\n",
      "k.smua.nvbuffer1.readings[i+1]=2.2288e-07\n",
      "k.smua.nvbuffer1.sourcevalues[i+1]=0.2\n",
      "k.smua.nvbuffer1.timestamps[i+1]=0.14513\n",
      "i=3 ==========\n",
      "k.smua.nvbuffer1.readings[i+1]=2.22874e-07\n",
      "k.smua.nvbuffer1.sourcevalues[i+1]=0.2\n",
      "k.smua.nvbuffer1.timestamps[i+1]=0.217695\n",
      "i=4 ==========\n",
      "k.smua.nvbuffer1.readings[i+1]=2.22865e-07\n",
      "k.smua.nvbuffer1.sourcevalues[i+1]=0.2\n",
      "k.smua.nvbuffer1.timestamps[i+1]=0.29026\n",
      "i=5 ==========\n",
      "k.smua.nvbuffer1.readings[i+1]=2.22881e-07\n",
      "k.smua.nvbuffer1.sourcevalues[i+1]=0.2\n",
      "k.smua.nvbuffer1.timestamps[i+1]=0.362825\n",
      "i=6 ==========\n",
      "k.smua.nvbuffer1.readings[i+1]=2.22872e-07\n",
      "k.smua.nvbuffer1.sourcevalues[i+1]=0.2\n",
      "k.smua.nvbuffer1.timestamps[i+1]=0.43539\n",
      "i=7 ==========\n",
      "k.smua.nvbuffer1.readings[i+1]=2.22862e-07\n",
      "k.smua.nvbuffer1.sourcevalues[i+1]=0.2\n",
      "k.smua.nvbuffer1.timestamps[i+1]=0.507954\n",
      "i=8 ==========\n",
      "k.smua.nvbuffer1.readings[i+1]=2.22876e-07\n",
      "k.smua.nvbuffer1.sourcevalues[i+1]=0.2\n",
      "k.smua.nvbuffer1.timestamps[i+1]=0.580519\n",
      "i=9 ==========\n",
      "k.smua.nvbuffer1.readings[i+1]=2.22864e-07\n",
      "k.smua.nvbuffer1.sourcevalues[i+1]=0.2\n",
      "k.smua.nvbuffer1.timestamps[i+1]=0.653083\n"
     ]
    }
   ],
   "source": [
    "print(f\"{k.smua.nvbuffer1.n}\")\n",
    "n_samples = k.smua.nvbuffer1.n\n",
    "\n",
    "for i in range(0, n_samples):\n",
    "    print(f\"{i=} {'='*10}\")\n",
    "    print(f\"{k.smua.nvbuffer1.readings[i+1]=}\")\n",
    "    print(f\"{k.smua.nvbuffer1.sourcevalues[i+1]=}\")\n",
    "    print(f\"{k.smua.nvbuffer1.timestamps[i+1]=}\")"
   ]
  },
  {
   "cell_type": "markdown",
   "id": "5b046835",
   "metadata": {},
   "source": [
    "# 20250724\n",
    "\n",
    "Keithley pulse and read, same as in EX 2"
   ]
  },
  {
   "cell_type": "code",
   "execution_count": 1,
   "id": "9b123f0a",
   "metadata": {},
   "outputs": [],
   "source": [
    "import pyvisa\n",
    "from  keithley2600 import Keithley2600\n",
    "\n",
    "        # ======\n",
    "        # Keithley\n",
    "        # ======\n",
    "k = Keithley2600('USB0::0x05E6::0x2636::4480001::INSTR', visa_library = 'C:/windows/System32/visa64.dll', timeout = 100000) \n",
    "k.smua.source.output = k.smua.OUTPUT_OFF"
   ]
  },
  {
   "cell_type": "code",
   "execution_count": null,
   "id": "f3e0c101",
   "metadata": {},
   "outputs": [],
   "source": [
    "# -- Restore 2600B defaults.\n",
    "k.smua.reset()\n",
    "#-- Select measure I autorange.\n",
    "k.smua.measure.autorangei = k.smua.AUTORANGE_ON # (with very small current -> timeout error)\n",
    "# k.smua.measure.rangei = 1e-7\n",
    "\n",
    "# turn autozero off for sweeping or time critical measurements\n",
    "k.smua.measure.autozero = k.smua.AUTOZERO_OFF\n",
    "\n",
    "#-- Select ASCII data format.\n",
    "k.format.data = k.format.ASCII\n",
    "#-- Clear buffer 1.\n",
    "k.smua.nvbuffer1.clear()\n",
    "#-- Enable append buffer mode.\n",
    "k.smua.nvbuffer1.appendmode = 1\n",
    "#-- Enable source value storage.\n",
    "k.smua.nvbuffer1.collectsourcevalues = 1\n",
    "\n",
    "#-- Enable source value storage.\n",
    "k.smua.nvbuffer1.collecttimestamps = 1\n",
    "\n",
    "#-- Turn on the output.\n",
    "k.smua.source.output = k.smua.OUTPUT_ON\n"
   ]
  },
  {
   "cell_type": "code",
   "execution_count": null,
   "id": "db5a65d1",
   "metadata": {},
   "outputs": [],
   "source": [
    "exp_result = []"
   ]
  },
  {
   "cell_type": "code",
   "execution_count": null,
   "id": "d61c813b",
   "metadata": {},
   "outputs": [],
   "source": [
    "# -- Set compliance to 1u A.\n",
    "k.smua.source.limiti = 1e-3\n",
    "\n",
    "# run the factory script\n",
    "# PulseVMeasureI(smu, bias, level, ton, toff, points)\n",
    "k.PulseVMeasureI(k.smua, 0, 0.2, 20e-3, 50e-3, 10) "
   ]
  },
  {
   "cell_type": "markdown",
   "id": "b891303a",
   "metadata": {},
   "source": [
    "# Others"
   ]
  },
  {
   "cell_type": "code",
   "execution_count": 9,
   "id": "287c66ee",
   "metadata": {},
   "outputs": [
    {
     "name": "stdout",
     "output_type": "stream",
     "text": [
      "False\n",
      "True\n"
     ]
    }
   ],
   "source": [
    "from ctypes import *\n",
    "print(c_ubyte(2) == c_ubyte(2))\n",
    "print(c_ubyte(2).value == c_ubyte(2).value)"
   ]
  },
  {
   "cell_type": "code",
   "execution_count": 20,
   "id": "d84074b0",
   "metadata": {},
   "outputs": [],
   "source": [
    "import time"
   ]
  },
  {
   "cell_type": "code",
   "execution_count": 28,
   "id": "d44d9ac8",
   "metadata": {},
   "outputs": [
    {
     "name": "stdout",
     "output_type": "stream",
     "text": [
      "duration=3.5423691272735596\n"
     ]
    }
   ],
   "source": [
    "start = time.time()\n",
    "\n",
    "time.sleep(1)\n",
    "for i in range(0,100000000):\n",
    "    pass\n",
    "\n",
    "duration = time.time() - start\n",
    "print(f\"{duration=}\")"
   ]
  },
  {
   "cell_type": "code",
   "execution_count": 3,
   "id": "dfe05306",
   "metadata": {},
   "outputs": [
    {
     "name": "stdout",
     "output_type": "stream",
     "text": [
      "<c_double_Array_3 object at 0x000001FE7FEEDA40> <c_double_Array_3 object at 0x000001FE7FEEC940>\n",
      "[0. 0. 0. 1. 1.]\n",
      "[1. 0. 0. 0. 0. 0. 0. 0. 0. 0. 0. 0. 0. 0. 0. 0. 0. 0. 0. 0. 0. 1.]\n"
     ]
    }
   ],
   "source": [
    "import numpy as np\n",
    "from ctypes import *\n",
    "\n",
    "# convert numpy array to c_type array\n",
    "a = np.zeros(3, dtype='d')\n",
    "a_ctype_double = np.ctypeslib.as_ctypes(a)\n",
    "b = (c_double*3)(0 , 0, 0)\n",
    "print(a_ctype_double, b)\n",
    "\n",
    "#\n",
    "c = np.zeros(3, dtype='d')\n",
    "d = np.ones(2, dtype='d')\n",
    "f = np.concatenate((c, d), axis=0)\n",
    "print(f)\n",
    "\n",
    "read_pulse = np.ones(1, dtype='d')\n",
    "write_pulse = np.ones(1, dtype='d')\n",
    "wait_duration = np.zeros(20, dtype='d')\n",
    "full_signal = np.concatenate((read_pulse, wait_duration, write_pulse), axis= 0)\n",
    "print(full_signal)\n"
   ]
  },
  {
   "cell_type": "markdown",
   "id": "bd3c3af7",
   "metadata": {},
   "source": [
    "# stdp record"
   ]
  },
  {
   "cell_type": "code",
   "execution_count": 1,
   "id": "196dc680",
   "metadata": {},
   "outputs": [],
   "source": [
    "from ctypes import *\n",
    "import sys\n",
    "import os\n",
    "from os import sep\n",
    "import logging\n",
    "import threading\n",
    "import pandas as pd\n",
    "import csv\n",
    "\n",
    "if sys.platform.startswith(\"win\"):\n",
    "    dwf = cdll.dwf\n",
    "    constants_path = \"C:\" + sep + \"Program Files (x86)\" + sep + \"Digilent\" + sep + \"WaveFormsSDK\" + sep + \"samples\" + sep + \"py\"\n",
    "elif sys.platform.startswith(\"darwin\"): # on macOS\n",
    "    dwf = cdll.LoadLibrary(\"/Library/Frameworks/dwf.framework/dwf\")\n",
    "else: # on Linux\n",
    "    dwf = cdll.LoadLibrary(\"libdwf.so\")\n",
    "    constants_path = sep + \"usr\" + sep + \"share\" + sep + \"digilent\" + sep + \"waveforms\" + sep + \"samples\" + sep + \"py\"\n",
    "\n",
    "# Import constans\n",
    "sys.path.append(constants_path)\n",
    "import dwfconstants \n",
    "\n",
    "import math\n",
    "import time\n",
    "import numpy as np\n"
   ]
  },
  {
   "cell_type": "code",
   "execution_count": 5,
   "id": "833d67ca",
   "metadata": {},
   "outputs": [
    {
     "name": "stdout",
     "output_type": "stream",
     "text": [
      "DWF Version: b'3.24.2'\n",
      "Opening first device\n"
     ]
    }
   ],
   "source": [
    "#declare ctype variables\n",
    "hdwf = c_int()\n",
    "sts = c_byte()\n",
    "hzAcq = c_double(200)\n",
    "    \n",
    "#print(DWF version\n",
    "version = create_string_buffer(16)\n",
    "dwf.FDwfGetVersion(version)\n",
    "print(\"DWF Version: \"+str(version.value))\n",
    "\n",
    "#open device\n",
    "print(\"Opening first device\")\n",
    "dwf.FDwfDeviceOpen(c_int(-1), byref(hdwf))\n",
    "\n",
    "if hdwf.value == dwfconstants.hdwfNone.value:\n",
    "    szerr = create_string_buffer(512)\n",
    "    dwf.FDwfGetLastErrorMsg(szerr)\n",
    "    print(str(szerr.value))\n",
    "    print(\"failed to open device\")\n",
    "    quit()\n",
    "\n",
    "dwf.FDwfDeviceAutoConfigureSet(hdwf, c_int(0)) # 0 = the device will only be configured when FDwf###Configure is called\n",
    "\n",
    "# init logger\n",
    "format = \"%(asctime)s: %(message)s\"\n",
    "log_file_path = 'example.log'\n",
    "logging.basicConfig(format=format, level=logging.INFO,  \n",
    "                        datefmt=\"%H:%M:%S\", filename= log_file_path, filemode= 'w')"
   ]
  },
  {
   "cell_type": "code",
   "execution_count": 6,
   "id": "6294c4ae",
   "metadata": {},
   "outputs": [],
   "source": [
    "def record (recordfreq, res, file_path, stop):\n",
    "    # recordfreq: record frequency [Hz]\n",
    "    # res: resistor for current measurement [Ohm]\n",
    "    # stop: signal for the function\n",
    "\n",
    "    # global dwf, hdwf\n",
    "    # record using 2 osc channels:\n",
    "        # osc_1 : measure current\n",
    "        # osc_2 : measure Vds of OECT\n",
    "    \n",
    "            # ======\n",
    "            # Prepare record file\n",
    "            # ======\n",
    "    field_names = ['time', 'i', 'v']\n",
    "    with open(file_path, 'w') as file:\n",
    "        file_writer = csv.DictWriter(file, fieldnames=field_names)\n",
    "        file_writer.writeheader()\n",
    "    \n",
    "    # This is the PC buffer (or recorded file in the computer).\n",
    "    # It is TOTALLY DIFFERENT FROM the internal buffer (of the FPGA, which is around 32K samples) \n",
    "    # of the analog-in channels of the Analog Device 3.\n",
    "    # The PC buffer limit only decided by the available disk space in PC, which this code is run.\n",
    "    # nSamples = 500# 2000000\n",
    "    cAvailable = c_int()\n",
    "    cLost = c_int()\n",
    "    cCorrupted = c_int()\n",
    "    fLost = 0\n",
    "    fCorrupted = 0\n",
    "\n",
    "    #set up acquisition (channel 1 + 2)\n",
    "    dwf.FDwfAnalogInChannelEnableSet(hdwf, c_int(0), c_int(1))\n",
    "    dwf.FDwfAnalogInChannelEnableSet(hdwf, c_int(1), c_int(1))\n",
    "    \n",
    "    dwf.FDwfAnalogInChannelRangeSet(hdwf, c_int(0), c_double(5))\n",
    "    dwf.FDwfAnalogInChannelRangeSet(hdwf, c_int(1), c_double(5))\n",
    "    \n",
    "    dwf.FDwfAnalogInAcquisitionModeSet(hdwf, dwfconstants.acqmodeRecord)\n",
    "    dwf.FDwfAnalogInFrequencySet(hdwf, recordfreq)\n",
    "    dwf.FDwfAnalogInRecordLengthSet(hdwf, c_double(-1)) # c_double(nSamples/hzAcq.value), -1 infinite record length \n",
    "    dwf.FDwfAnalogInConfigure(hdwf, c_int(1), c_int(0))\n",
    "\n",
    "\n",
    "    #wait at least 2 seconds for the offset to stabilize\n",
    "    time.sleep(2)\n",
    "\n",
    "    logging.info(f\"Starting oscilloscope\")\n",
    "    dwf.FDwfAnalogInConfigure(hdwf, c_int(0), c_int(1))\n",
    "\n",
    "    cSamples = 0\n",
    "    sample_idx = 0\n",
    "    time_step = 1/recordfreq # [s]\n",
    "    while True:\n",
    "        dwf.FDwfAnalogInStatus(hdwf, c_int(1), byref(sts))\n",
    "        if cSamples == 0 and (sts == dwfconstants.DwfStateConfig or sts == dwfconstants.DwfStatePrefill or sts == dwfconstants.DwfStateArmed) :\n",
    "            logging.info(f\"Acquisition not yet started\")\n",
    "            # Acquisition not yet started.\n",
    "            continue\n",
    "\n",
    "        dwf.FDwfAnalogInStatusRecord(hdwf, byref(cAvailable), byref(cLost), byref(cCorrupted))\n",
    "        \n",
    "        cSamples += cLost.value\n",
    "\n",
    "        if cLost.value :\n",
    "            fLost = 1\n",
    "        if cCorrupted.value :\n",
    "            fCorrupted = 1\n",
    "\n",
    "        if cAvailable.value==0 :\n",
    "            continue\n",
    "        \n",
    "        n_samples = cAvailable.value\n",
    "        logging.info(f\"OSC, {cAvailable.value=}\")\n",
    "        rgdSamples1 = (c_double*n_samples)()\n",
    "        rgdSamples2 = (c_double*n_samples)()\n",
    "\n",
    "        dwf.FDwfAnalogInStatusData(hdwf, c_int(0), byref(rgdSamples1), cAvailable) # get channel 1: current\n",
    "        dwf.FDwfAnalogInStatusData(hdwf, c_int(1), byref(rgdSamples2), cAvailable) # get channel 2: voltage\n",
    "\n",
    "        # logging.info(f\"OSC, {rgdSamples1=}\")\n",
    "            # record to file\n",
    "        with open(file_path, 'a') as file: \n",
    "                # NOTICE: THE WHILE LOOP/ FOR LOOP INSIDE -> NO CONSTANT UPDATE TO FILE AT ALL -> NO ANIMATION\n",
    "                file_writer = csv.DictWriter(file, fieldnames=field_names)\n",
    "                for i in range(0, n_samples):\n",
    "                    info = {\n",
    "                                'time': sample_idx * time_step,\n",
    "                                'i': rgdSamples1[i]/res,\n",
    "                                'v': rgdSamples2[i]\n",
    "                    }\n",
    "                    sample_idx = sample_idx + 1\n",
    "                    file_writer.writerow(info)\n",
    "    \n",
    "        # time.sleep(0.1)\n",
    "\n",
    "            # stop the recording process\n",
    "        if stop():\n",
    "            logging.info(f\"oscillocope, lost    : {cSamples=}\")\n",
    "            logging.info(f\"oscillocope, lost    : {fLost=}\")\n",
    "            logging.info(f\"oscillocope, corrupt    : {fCorrupted=}\")\n",
    "            break\n",
    "\n",
    "    logging.info(\"oscilloscope    : EXIT\")\n",
    "    return\n"
   ]
  },
  {
   "cell_type": "code",
   "execution_count": 7,
   "id": "7089aa42",
   "metadata": {},
   "outputs": [],
   "source": [
    "def wavegen (signal_freq, stop):\n",
    "    # signal_freq: [Hz]\n",
    "\n",
    "    # global dwf, hdwf\n",
    "        # parameters\n",
    "    out_ch_1 = c_int(0)\n",
    "    w1_amplitude = -200e-3 # [V]\n",
    "    w1_offset = 0 # [V]\n",
    "    percentageSymmetry = 50\n",
    "    secRun = 1* (1/signal_freq) # [s], 1 period only\n",
    "    \n",
    "    out_ch_2 = c_int(1)\n",
    "    w2_amplitude = 200e-3 # [V]\n",
    "    w2_offset = 0 # [V]\n",
    "\n",
    "    rest_time = 1 # [s]\n",
    "\n",
    "    logging.info(\"generate signals\")\n",
    "\n",
    "    logging.info(\"configure w1\")\n",
    "    dwf.FDwfAnalogOutNodeEnableSet(hdwf, out_ch_1, dwfconstants.AnalogOutNodeCarrier, c_int(1))\n",
    "    dwf.FDwfAnalogOutNodeFunctionSet(hdwf, out_ch_1, dwfconstants.AnalogOutNodeCarrier, dwfconstants.funcPulse)\n",
    "    dwf.FDwfAnalogOutNodeFrequencySet(hdwf, out_ch_1, dwfconstants.AnalogOutNodeCarrier, c_double(signal_freq))\n",
    "    # FDwfAnalogOutNodeSymmetrySet(HDWF hdwf, int idxChannel, AnalogOutNode node, double percentageSymmetry)\n",
    "    dwf.FDwfAnalogOutNodeSymmetrySet(hdwf, out_ch_1, dwfconstants.AnalogOutNodeCarrier, c_double(percentageSymmetry))\n",
    "    dwf.FDwfAnalogOutOffsetSet(hdwf, out_ch_1, c_double(w1_offset))\n",
    "    dwf.FDwfAnalogOutNodeAmplitudeSet(hdwf, out_ch_1, dwfconstants.AnalogOutNodeCarrier, c_double(w1_amplitude))\n",
    "    # FDwfAnalogOutRunSet(HDWF hdwf, int idxChannel, double secRun)\n",
    "    dwf.FDwfAnalogOutRunSet(hdwf, out_ch_1, c_double(secRun))\n",
    "    # FDwfAnalogOutRepeatSet(HDWF hdwf, int idxChannel, int cRepeat);\n",
    "    dwf.FDwfAnalogOutRepeatSet(hdwf, out_ch_1, c_int(1))\n",
    "    idle = dwfconstants.DwfAnalogOutIdleOffset\n",
    "    dwf.FDwfAnalogOutIdleSet(hdwf, out_ch_1, idle)\n",
    "\n",
    "    logging.info(\"configure w2\")\n",
    "    dwf.FDwfAnalogOutNodeEnableSet(hdwf, out_ch_2, dwfconstants.AnalogOutNodeCarrier, c_int(1))\n",
    "    dwf.FDwfAnalogOutNodeFunctionSet(hdwf, out_ch_2, dwfconstants.AnalogOutNodeCarrier, dwfconstants.funcSquare)\n",
    "    dwf.FDwfAnalogOutNodeFrequencySet(hdwf, out_ch_2, dwfconstants.AnalogOutNodeCarrier, c_double(signal_freq))\n",
    "    # FDwfAnalogOutNodeSymmetrySet(HDWF hdwf, int idxChannel, AnalogOutNode node, double percentageSymmetry)\n",
    "    dwf.FDwfAnalogOutNodeSymmetrySet(hdwf, out_ch_2, dwfconstants.AnalogOutNodeCarrier, c_double(percentageSymmetry))\n",
    "    dwf.FDwfAnalogOutOffsetSet(hdwf, out_ch_2, c_double(w2_offset))\n",
    "    dwf.FDwfAnalogOutNodeAmplitudeSet(hdwf, out_ch_2, dwfconstants.AnalogOutNodeCarrier, c_double(w2_amplitude))\n",
    "    # FDwfAnalogOutRunSet(HDWF hdwf, int idxChannel, double secRun)\n",
    "    dwf.FDwfAnalogOutRunSet(hdwf, out_ch_2, c_double(secRun))\n",
    "    # FDwfAnalogOutRepeatSet(HDWF hdwf, int idxChannel, int cRepeat);\n",
    "    dwf.FDwfAnalogOutRepeatSet(hdwf, out_ch_2, c_int(1))\n",
    "    idle = dwfconstants.DwfAnalogOutIdleOffset\n",
    "    dwf.FDwfAnalogOutIdleSet(hdwf, out_ch_2, idle)\n",
    "    # # FDwfAnalogOutTriggerSourceSet(HDWF hdwf, int idxChannel, TRIGSRC trigsrc)\n",
    "    # trgsrc = dwfconstants.trigsrcAnalogOut1\n",
    "    # dwf.FDwfAnalogOutTriggerSourceSet(hdwf, out_ch_2, trgsrc)\n",
    "\n",
    "    logging.info(\"start the wavegen\")\n",
    "    while True:\n",
    "        # FDwfAnalogOutConfigure(HDWF hdwf, int idxChannel, int fStart)\n",
    "        dwf.FDwfAnalogOutConfigure(hdwf, out_ch_1, c_int(1))\n",
    "        time.sleep(secRun)\n",
    "        dwf.FDwfAnalogOutConfigure(hdwf, out_ch_2, c_int(1))\n",
    "        \n",
    "        time.sleep(rest_time)\n",
    "        \n",
    "        if stop():\n",
    "            # stop all channels\n",
    "            dwf.FDwfAnalogOutConfigure(hdwf, -1, c_int(0))\n",
    "            break\n",
    "    \n",
    "    logging.info(\"wavegen: EXIT\")\n",
    "    return\n"
   ]
  },
  {
   "cell_type": "code",
   "execution_count": null,
   "id": "b72bed53",
   "metadata": {},
   "outputs": [],
   "source": [
    "logging.info(\"Main    : Prepare measurement\")\n",
    "\n",
    "stop_gen_threads = False\n",
    "signal_freq = 2 # [Hz]\n",
    "# xgen = threading.Thread(target=wavegen, daemon=True, args=(signal_freq, lambda: stop_gen_threads, ))\n",
    "xgen = threading.Thread(target=wavegen, args=(signal_freq, lambda: stop_gen_threads, ))\n",
    "\n",
    "stop_osc_threads = False\n",
    "rec_freq = 100000000 # [Hz]\n",
    "# Resistor for current measurement (res)\n",
    "R = 0.00205806419e+3 # Ohm\n",
    "file_path = \"C:/Users/20245580/LabCode/Codes_For_Experiments/exp_data/20250616/stdp.csv\"\n",
    "xosc = threading.Thread(target=record, args=(rec_freq, R, file_path, lambda: stop_osc_threads, ))\n",
    "\n",
    "logging.info(\"Main    : Run measurement\")\n",
    "xosc.start()\n",
    "time.sleep(2)\n",
    "xgen.start()\n"
   ]
  },
  {
   "cell_type": "code",
   "execution_count": 9,
   "id": "3c3a641f",
   "metadata": {},
   "outputs": [],
   "source": [
    "stop_gen_threads = True\n"
   ]
  },
  {
   "cell_type": "code",
   "execution_count": 10,
   "id": "f66e0832",
   "metadata": {},
   "outputs": [],
   "source": [
    "stop_osc_threads = True"
   ]
  },
  {
   "cell_type": "code",
   "execution_count": 11,
   "id": "59bd7f59",
   "metadata": {},
   "outputs": [
    {
     "data": {
      "text/plain": [
       "1"
      ]
     },
     "execution_count": 11,
     "metadata": {},
     "output_type": "execute_result"
    }
   ],
   "source": [
    "dwf.FDwfDeviceCloseAll()"
   ]
  },
  {
   "cell_type": "code",
   "execution_count": null,
   "id": "b71cbadc",
   "metadata": {},
   "outputs": [],
   "source": []
  }
 ],
 "metadata": {
  "kernelspec": {
   "display_name": "microcontroller",
   "language": "python",
   "name": "python3"
  },
  "language_info": {
   "codemirror_mode": {
    "name": "ipython",
    "version": 3
   },
   "file_extension": ".py",
   "mimetype": "text/x-python",
   "name": "python",
   "nbconvert_exporter": "python",
   "pygments_lexer": "ipython3",
   "version": "3.10.16"
  }
 },
 "nbformat": 4,
 "nbformat_minor": 5
}
